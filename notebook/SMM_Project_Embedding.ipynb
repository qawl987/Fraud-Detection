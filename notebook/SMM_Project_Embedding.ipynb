{
  "cells": [
    {
      "attachments": {},
      "cell_type": "markdown",
      "metadata": {
        "id": "XuXWJLEm2UWS"
      },
      "source": [
        "# **SMM Assignment2**"
      ]
    },
    {
      "attachments": {},
      "cell_type": "markdown",
      "metadata": {
        "id": "8gzsP50bF6Gb"
      },
      "source": [
        "在這份作業中，我們會使用Pytorch Geometric(PyG)來建構GCN模型，並將其應用到兩個OGB（Open Graph Benchmark）公開資料集上。一個資料集的任務是Node分類，另一個是圖分類。\n",
        "\n",
        "首先，我們需要Pytorch Geometric將Graph資料存儲為Pytorch Tensor。\n",
        "\n",
        "***請勿參考網路上的相關實作，也不能copy同學的code。**但你可以與同學或TA討論你遇到的問題。\n",
        "\n",
        "In this assignment, we will use Pytorch Geometric (PyG) to construct the GCN model and apply it to two OGB (Open Graph Benchmark) public datasets. One dataset will be tasked with Node classification and the other with graph classification.\n",
        "\n",
        "First, we need the Pytorch Geometric to store the Graph data as a Pytorch Tensor.\n",
        "\n",
        "*Please do not refer to the related work on the web. But You can discuss your problems with your classmates or TA.\n"
      ]
    },
    {
      "attachments": {},
      "cell_type": "markdown",
      "metadata": {
        "id": "ZGKqVEbbMEzf"
      },
      "source": [
        "# 設備 Device\n",
        "\n",
        "如果你使用Colab，請調整至GPU模式。\n",
        "\n",
        "If you are using Colab, please adjust to GPU mode"
      ]
    },
    {
      "attachments": {},
      "cell_type": "markdown",
      "metadata": {
        "id": "B0NiFL6OLpaJ"
      },
      "source": [
        "# 安裝 Installation"
      ]
    },
    {
      "cell_type": "code",
      "execution_count": 2,
      "metadata": {
        "id": "FZxPEAG7HnQ5"
      },
      "outputs": [
        {
          "name": "stdout",
          "output_type": "stream",
          "text": [
            "PyTorch has version 1.8.1+cu101\n"
          ]
        }
      ],
      "source": [
        "import torch\n",
        "import os\n",
        "import numpy as np\n",
        "from sklearn.model_selection import train_test_split\n",
        "from torch_geometric.data import Data\n",
        "import pandas as pd\n",
        "import random\n",
        "print(\"PyTorch has version {}\".format(torch.__version__))\n",
        "os.environ[\"CUDA_VISIBLE_DEVICES\"] = \"0\""
      ]
    },
    {
      "cell_type": "code",
      "execution_count": 2,
      "metadata": {},
      "outputs": [],
      "source": [
        "random_seed = 12\n",
        "random.seed(random_seed)\n",
        "np.random.seed(random_seed)\n",
        "torch.manual_seed(random_seed)\n",
        "torch.cuda.manual_seed(random_seed)\n",
        "torch.cuda.manual_seed_all(random_seed)"
      ]
    },
    {
      "cell_type": "code",
      "execution_count": 3,
      "metadata": {},
      "outputs": [],
      "source": [
        "node_info = pd.read_csv('./node_info.csv')\n",
        "y = node_info['fraud_risk']\n",
        "x = node_info.drop(columns=['user_id', 'fraud_risk'])\n",
        "edge_index = pd.read_csv('edge_index.csv')\n",
        "feature_num = len(x.iloc[0])\n",
        "feat1 = x.iloc[:, 0:5].max().max() + 1\n",
        "feat2 = x.iloc[:, 5:10].max().max() + 1\n",
        "feat3 = x.iloc[:, 10:15].max().max() + 1"
      ]
    },
    {
      "cell_type": "code",
      "execution_count": 5,
      "metadata": {},
      "outputs": [
        {
          "data": {
            "text/plain": [
              "0    33280\n",
              "1      452\n",
              "Name: fraud_risk, dtype: int64"
            ]
          },
          "execution_count": 5,
          "metadata": {},
          "output_type": "execute_result"
        }
      ],
      "source": [
        "y.value_counts()"
      ]
    },
    {
      "cell_type": "code",
      "execution_count": 4,
      "metadata": {},
      "outputs": [],
      "source": [
        "idx = [i for i in range(len(y))]\n",
        "train_idx, test_idx, _, _ = train_test_split(idx, idx, test_size=0.2, random_state=random_seed)\n",
        "valid_idx, test_idx, _, _ = train_test_split(test_idx, test_idx, test_size=0.5, random_state=random_seed)"
      ]
    },
    {
      "cell_type": "code",
      "execution_count": 5,
      "metadata": {},
      "outputs": [],
      "source": [
        "x = torch.tensor(x.values, dtype=torch.int32)\n",
        "mask = (x != -1)\n",
        "x = x * mask\n",
        "edge_index = torch.tensor(edge_index.values.T, dtype=torch.long)\n",
        "y = torch.tensor(y.values, dtype=torch.float32)\n",
        "data = Data(x=x, edge_index=edge_index, y=y)"
      ]
    },
    {
      "cell_type": "code",
      "execution_count": 6,
      "metadata": {
        "id": "-DCtgcHpGIpd"
      },
      "outputs": [],
      "source": [
        "import torch\n",
        "import torch.nn.functional as F\n",
        "\n",
        "# The PyG built-in GCNConv\n",
        "from torch_geometric.nn import GCNConv\n",
        "\n",
        "import torch_geometric.transforms as T\n",
        "from ogb.nodeproppred import PygNodePropPredDataset, Evaluator\n"
      ]
    },
    {
      "attachments": {},
      "cell_type": "markdown",
      "metadata": {
        "id": "0IK9z0wQIwzQ"
      },
      "source": [
        "## Load and Preprocess the Dataset"
      ]
    },
    {
      "attachments": {},
      "cell_type": "markdown",
      "metadata": {
        "id": "OgUA815bNJ8w"
      },
      "source": [
        "## GCN Model (10分)\n",
        "\n",
        "實作GCN模型，請按照下圖所示的結構初始化所需要的layer，並實作`forwad`。BN為Batch Normalization。\n",
        "\n",
        "Please follow the figure below to implement your `forward` function. BN is Batch \n",
        "\n",
        "\n",
        "![test](https://drive.google.com/uc?id=128AuYAXNXGg7PIhJJ7e420DoPWKb-RtL)"
      ]
    },
    {
      "cell_type": "code",
      "execution_count": 7,
      "metadata": {
        "id": "o7F46xkuLiOL"
      },
      "outputs": [],
      "source": [
        "device = 'cuda' if torch.cuda.is_available() else 'cpu'\n",
        "args = {\n",
        "    'device': device,\n",
        "    'num_layers': 3,\n",
        "    'embedding_dim': 5,\n",
        "    'hidden_dim': 64,\n",
        "    'dropout': 0.5,\n",
        "    'lr': 0.01,\n",
        "    'epochs': 100,\n",
        "    'output_feature': 1,\n",
        "    'feat1': feat1,\n",
        "    'feat2': feat2,\n",
        "    'feat3': feat3\n",
        "}"
      ]
    },
    {
      "cell_type": "code",
      "execution_count": 8,
      "metadata": {
        "id": "IgspXTYpNJLA"
      },
      "outputs": [],
      "source": [
        "from torch_geometric.nn.conv import GCNConv\n",
        "import torch.nn as nn\n",
        "class GCN(torch.nn.Module):\n",
        "    def __init__(self, input_dim, embedding_dim, feat1, feat2, feat3, hidden_dim, output_dim, num_layers,\n",
        "                 dropout, return_embeds=False):\n",
        "\n",
        "        super(GCN, self).__init__()\n",
        "        self.embeddings = nn.ModuleList()\n",
        "        self.embeddings.append(nn.Embedding(feat1, embedding_dim))\n",
        "        self.embeddings.append(nn.Embedding(feat2, embedding_dim))\n",
        "        self.embeddings.append(nn.Embedding(feat3, embedding_dim))\n",
        "\n",
        "        self.convs = nn.ModuleList()\n",
        "        self.bns = nn.ModuleList()\n",
        "        self.convs.append(GCNConv(input_dim * embedding_dim, hidden_dim))\n",
        "        self.bns.append(nn.BatchNorm1d(hidden_dim))\n",
        "        for i in range(num_layers - 2):\n",
        "            self.convs.append(GCNConv(hidden_dim, hidden_dim))\n",
        "            self.bns.append(nn.BatchNorm1d(hidden_dim))\n",
        "        self.convs.append(GCNConv(hidden_dim, output_dim))\n",
        "        self.softmax = nn.LogSoftmax(dim=1)\n",
        "        self.dropout = dropout\n",
        "        self.Sigmoid = nn.Sigmoid()\n",
        "        self.return_embeds = return_embeds\n",
        "\n",
        "    def reset_parameters(self):\n",
        "        for conv in self.convs:\n",
        "            conv.reset_parameters()\n",
        "        for bn in self.bns:\n",
        "            bn.reset_parameters()\n",
        "\n",
        "    def forward(self, x, adj_t):\n",
        "        out = None\n",
        "        sample = len(x)\n",
        "        card = self.embeddings[0](x[:, :5])\n",
        "        ip = self.embeddings[1](x[:, 5:10])\n",
        "        device = self.embeddings[2](x[:, 10:15])\n",
        "        # [33532, 1500] int32 type\n",
        "        x = torch.cat([card, ip, device], dim=1).reshape(sample, -1)\n",
        "        # float32 type, in GPU\n",
        "        x = x.to(torch.float32).to(device)\n",
        "        for i in range(len(self.convs) - 1):\n",
        "            x = self.convs[i](x, adj_t)\n",
        "            x = self.bns[i](x)\n",
        "            x = F.relu(x)\n",
        "            if self.training == True:\n",
        "                x = F.dropout(x, p=self.dropout)\n",
        "        x = self.convs[-1](x, adj_t)\n",
        "        x = self.Sigmoid(x) if args['output_feature'] == 1 else self.softmax(x)\n",
        "        out = x\n",
        "\n",
        "        return out"
      ]
    },
    {
      "cell_type": "code",
      "execution_count": 9,
      "metadata": {
        "id": "dT8RyM2cPGxM"
      },
      "outputs": [],
      "source": [
        "model = GCN(feature_num, args['embedding_dim'], args['feat1'], args['feat2']\n",
        "            , args['feat3'],args['hidden_dim'],\n",
        "            args['output_feature'], args['num_layers'],\n",
        "            args['dropout']).to(device)"
      ]
    },
    {
      "cell_type": "code",
      "execution_count": 10,
      "metadata": {},
      "outputs": [],
      "source": [
        "def train(model, data, train_idx, optimizer, loss_fn):\n",
        "    model.train()\n",
        "    loss = 0\n",
        "\n",
        "    optimizer.zero_grad()\n",
        "    x, edge_index = data['x'].to(device), data['edge_index'].to(device)\n",
        "    output = model(x, edge_index)\n",
        "    output = output[train_idx]\n",
        "    label = torch.squeeze(data.y[train_idx]).to(device)\n",
        "    if loss_fn == torch.nn.BCELoss:\n",
        "        output = torch.squeeze(output)\n",
        "        output = output.float()\n",
        "        loss = loss_fn()(output, label)\n",
        "    elif loss_fn == F.nll_loss:\n",
        "        label = label.long()\n",
        "        loss = loss_fn(output, label)\n",
        "\n",
        "\n",
        "    loss.backward()\n",
        "    optimizer.step()\n",
        "\n",
        "    return loss.item()"
      ]
    },
    {
      "cell_type": "code",
      "execution_count": 11,
      "metadata": {},
      "outputs": [],
      "source": [
        "from sklearn.metrics import accuracy_score\n",
        "from sklearn.metrics import ConfusionMatrixDisplay\n",
        "from sklearn.metrics import precision_score, recall_score, f1_score"
      ]
    },
    {
      "cell_type": "code",
      "execution_count": 12,
      "metadata": {},
      "outputs": [],
      "source": [
        "@torch.no_grad()\n",
        "def eval_nll(model, data, idx):\n",
        "    model.eval()\n",
        "\n",
        "    out = None\n",
        "    threshold = 0.1\n",
        "    ############# CODE HERE ############\n",
        "    ## 1. 完成out的運算即可，記得將輸入資料轉移至device上\n",
        "    ## 1. Just get output using model and remember to transfer the input data to the device\n",
        "    x, edge_index = data['x'].to(device), data['edge_index'].to(device)\n",
        "    output = model(x, edge_index)\n",
        "    output = output[idx].cpu()\n",
        "    output = output.argmax(dim=-1, keepdim=True)\n",
        "\n",
        "    #########################################\n",
        "    label = data['y'][idx]\n",
        "\n",
        "    return accuracy_score(output, label), precision_score(output, label, zero_division=0), recall_score(output, label, zero_division=0), f1_score(output, label, zero_division=0)"
      ]
    },
    {
      "cell_type": "code",
      "execution_count": 13,
      "metadata": {},
      "outputs": [],
      "source": [
        "@torch.no_grad()\n",
        "def eval_bce(model, data, idx):\n",
        "    model.eval()\n",
        "\n",
        "    out = None\n",
        "    threshold = 0.1\n",
        "    ############# CODE HERE ############\n",
        "    ## 1. 完成out的運算即可，記得將輸入資料轉移至device上\n",
        "    ## 1. Just get output using model and remember to transfer the input data to the device\n",
        "    x, edge_index = data['x'].to(device), data['edge_index'].to(device)\n",
        "    output = model(x, edge_index)\n",
        "    output = torch.squeeze(output)\n",
        "    output = output.float()\n",
        "    output = output[idx].cpu()\n",
        "    output = torch.tensor([0 if x < threshold else 1 for x in output])\n",
        "    #########################################\n",
        "    label = data['y'][idx]\n",
        "    count = sum(1 for label, output in zip(label, output) if label == 1 and output == 1)\n",
        "    true = sum(label[i]==1 for i in range(len(label))).item()\n",
        "    tp = count / true\n",
        "    return accuracy_score(output, label), precision_score(output, label, zero_division=0), recall_score(output, label, zero_division=0), f1_score(output, label, zero_division=0), tp"
      ]
    },
    {
      "cell_type": "code",
      "execution_count": 14,
      "metadata": {},
      "outputs": [
        {
          "name": "stdout",
          "output_type": "stream",
          "text": [
            "epoch:10 loss: 0.19202424585819244 accuracy: 0.019270678920841982 1.0 0.014008941877794338 0.027630805408583186 1.0\n",
            "epoch:20 loss: 0.09993409365415573 accuracy: 0.44233619922917283 0.6595744680851063 0.016350210970464137 0.0319094184251158 0.6595744680851063\n",
            "epoch:30 loss: 0.08226452022790909 accuracy: 0.8084790987251704 0.5319148936170213 0.03852080123266564 0.07183908045977011 0.5319148936170213\n",
            "epoch:40 loss: 0.07410058379173279 accuracy: 0.8559146160687815 0.5319148936170213 0.05112474437627812 0.09328358208955224 0.5319148936170213\n",
            "epoch:50 loss: 0.0641479417681694 accuracy: 0.9187666765490661 0.5957446808510638 0.0989399293286219 0.16969696969696968 0.5957446808510638\n",
            "epoch:60 loss: 0.05863707512617111 accuracy: 0.9350726356359325 0.5957446808510638 0.12280701754385964 0.20363636363636364 0.5957446808510638\n",
            "epoch:70 loss: 0.050909921526908875 accuracy: 0.9380373554699081 0.5957446808510638 0.12844036697247707 0.21132075471698114 0.5957446808510638\n",
            "epoch:80 loss: 0.043633799999952316 accuracy: 0.9475244589386304 0.5957446808510638 0.15053763440860216 0.240343347639485 0.5957446808510638\n",
            "epoch:90 loss: 0.03907117620110512 accuracy: 0.9531574266231841 0.5957446808510638 0.16766467065868262 0.2616822429906542 0.5957446808510638\n",
            "epoch:100 loss: 0.034274835139513016 accuracy: 0.9549362585235696 0.5957446808510638 0.17391304347826086 0.2692307692307692 0.5957446808510638\n"
          ]
        }
      ],
      "source": [
        "import copy\n",
        "optimizer = torch.optim.Adam(model.parameters(), lr=args['lr'])\n",
        "loss_fn = torch.nn.BCELoss if args['output_feature'] == 1 else F.nll_loss\n",
        "model.reset_parameters()\n",
        "eval_func = eval_nll if loss_fn == F.nll_loss else eval_bce\n",
        "\n",
        "best_model = None\n",
        "best_f1 = 0\n",
        "best_tp = 0\n",
        "for epoch in range(1, 1 + args[\"epochs\"]):\n",
        "    loss = train(model, data, train_idx, optimizer, loss_fn)\n",
        "    if epoch % 10 == 0:\n",
        "        valid_acc, precision, recall, f1, tp= eval_func(model, data, valid_idx)\n",
        "        print(f'epoch:{epoch} loss: {loss} accuracy:', valid_acc, precision, recall, f1, tp)\n",
        "        # if f1 > best_f1:\n",
        "        #     best_f1 = f1\n",
        "        #     best_model = copy.deepcopy(model)\n",
        "        if (valid_acc > 0.9 and tp >= best_tp):\n",
        "            best_tp = tp\n",
        "            best_model = copy.deepcopy(model)\n",
        "    else:\n",
        "        # print(f'epoch:{epoch} loss: {loss}')\n",
        "        pass"
      ]
    },
    {
      "cell_type": "code",
      "execution_count": 15,
      "metadata": {},
      "outputs": [],
      "source": [
        "best_model.eval()\n",
        "best_threshold = 0\n",
        "best_tp = 0\n",
        "i = 0.001\n",
        "best_recall = 0\n",
        "f1 = 0\n",
        "while i <= 0.2:\n",
        "    # The output of model on all data\n",
        "    out = None\n",
        "    # threshold = 0.02\n",
        "    threshold = i\n",
        "    ############# CODE HERE ############\n",
        "    ## 1. 完成out的運算即可，記得將輸入資料轉移至device上\n",
        "    ## 1. Just get output using model and remember to transfer the input data to the device\n",
        "    x, test_edge_index = data['x'].to(device), data['edge_index'].to(device)\n",
        "    output = best_model(x, test_edge_index)\n",
        "    output = torch.squeeze(output)\n",
        "    output = output.float()\n",
        "    output = output[test_idx].cpu()\n",
        "    output = torch.tensor([0 if x < threshold else 1 for x in output])\n",
        "    #########################################\n",
        "    label = data['y'][test_idx]\n",
        "    count = sum(1 for label, output in zip(label, output) if label == 1 and output == 1)\n",
        "    true = sum(label[i]==1 for i in range(len(label))).item()\n",
        "    tp = count / true\n",
        "    acc = accuracy_score(output, label)\n",
        "    # acc, recall, f1 = accuracy_score(output, label), recall_score(output, label, zero_division=0), f1_score(output, label, zero_division=0)\n",
        "    # _, _,recall, _ =accuracy_score(output, label), precision_score(output, label, zero_division=0), recall_score(output, label, zero_division=0), f1_score(output, label, zero_division=0)\n",
        "    if(acc > 0.95 and tp >= best_tp):\n",
        "        best_threshold = threshold\n",
        "        best_tp = tp\n",
        "    # print(recall)\n",
        "    # if(acc > 0.9 and recall > best_recall):\n",
        "    #     best_threshold = threshold\n",
        "    #     best_recall = recall\n",
        "    i += 0.01\n",
        "    # disp = ConfusionMatrixDisplay.from_predictions(label, output, cmap='Greys',normalize='true', colorbar=False)"
      ]
    },
    {
      "cell_type": "code",
      "execution_count": 16,
      "metadata": {},
      "outputs": [
        {
          "name": "stdout",
          "output_type": "stream",
          "text": [
            "0.07100000000000001\n"
          ]
        }
      ],
      "source": [
        "print(best_threshold)"
      ]
    },
    {
      "cell_type": "code",
      "execution_count": 19,
      "metadata": {},
      "outputs": [
        {
          "name": "stdout",
          "output_type": "stream",
          "text": [
            "0.7105263157894737 recall: 0.14917127071823205 acc: 0.9510966212211025 pre: 0.7105263157894737 f1: 0.24657534246575344\n"
          ]
        },
        {
          "data": {
            "image/png": "[encoded data removed]",
            "text/plain": [
              "<Figure size 640x480 with 1 Axes>"
            ]
          },
          "metadata": {},
          "output_type": "display_data"
        }
      ],
      "source": [
        "best_model.eval()\n",
        "\n",
        "# The output of model on all data\n",
        "out = None\n",
        "# threshold = 0.02\n",
        "threshold = best_threshold\n",
        "############# CODE HERE ############\n",
        "## 1. 完成out的運算即可，記得將輸入資料轉移至device上\n",
        "## 1. Just get output using model and remember to transfer the input data to the device\n",
        "x, test_edge_index = data['x'].to(device), data['edge_index'].to(device)\n",
        "output = best_model(x, test_edge_index)\n",
        "output = torch.squeeze(output)\n",
        "output = output.float()\n",
        "output = output[test_idx].cpu()\n",
        "output = torch.tensor([0 if x < threshold else 1 for x in output])\n",
        "#########################################\n",
        "label = data['y'][test_idx]\n",
        "count = sum(1 for label, output in zip(label, output) if label == 1 and output == 1)\n",
        "true = sum(label[i]==1 for i in range(len(label))).item()\n",
        "tp = count / true\n",
        "print(tp, 'recall:', recall_score(output, label, zero_division=0), 'acc:', accuracy_score(output, label), 'pre:', precision_score(output, label, zero_division=0), 'f1:', f1_score(output, label, zero_division=0))\n",
        "disp = ConfusionMatrixDisplay.from_predictions(label, output, cmap='Greys',normalize='true', colorbar=False)"
      ]
    },
    {
      "cell_type": "code",
      "execution_count": 20,
      "metadata": {},
      "outputs": [
        {
          "name": "stdout",
          "output_type": "stream",
          "text": [
            "recall: 0.7105263157894737 acc: 0.9510966212211025 pre: 0.14917127071823205 f1: 0.24657534246575344\n"
          ]
        }
      ],
      "source": [
        "print('recall:', recall_score(label, output, zero_division=0), 'acc:', accuracy_score(label, output), 'pre:', precision_score(label, output, zero_division=0), 'f1:', f1_score(label, output, zero_division=0))"
      ]
    },
    {
      "cell_type": "code",
      "execution_count": 18,
      "metadata": {},
      "outputs": [
        {
          "data": {
            "image/png": "[encoded data removed]",
            "text/plain": [
              "<Figure size 640x480 with 1 Axes>"
            ]
          },
          "metadata": {},
          "output_type": "display_data"
        }
      ],
      "source": [
        "from sklearn.metrics import RocCurveDisplay\n",
        "\n",
        "display = RocCurveDisplay.from_predictions(label, output, name=\"GCN Model\")\n",
        "_ = display.ax_.set_title(\"ROC Curve\")"
      ]
    },
    {
      "cell_type": "code",
      "execution_count": null,
      "metadata": {},
      "outputs": [],
      "source": []
    },
    {
      "attachments": {},
      "cell_type": "markdown",
      "metadata": {},
      "source": [
        "# Appendix"
      ]
    },
    {
      "cell_type": "code",
      "execution_count": null,
      "metadata": {
        "id": "qd5O5cnPPdVF"
      },
      "outputs": [],
      "source": [
        "import copy\n",
        "\n",
        "model.reset_parameters()\n",
        "\n",
        "loss_fn = F.nll_loss\n",
        "\n",
        "best_model = None\n",
        "best_valid_acc = 0\n",
        "\n",
        "\n",
        "# build model\n",
        "scheduler, opt = build_optimizer(args, model.parameters())\n",
        "\n",
        "# train\n",
        "losses = []\n",
        "test_accs = []\n",
        "for epoch in range(args.epochs):\n",
        "    total_loss = 0\n",
        "    model.train()\n",
        "    for batch in train_dataloader:\n",
        "        opt.zero_grad()\n",
        "        pred = model(batch)\n",
        "        label = batch.y\n",
        "        pred = pred[batch.train_mask]\n",
        "        label = label[batch.train_mask]\n",
        "        loss = model.loss(pred, label)\n",
        "        loss.backward()\n",
        "        opt.step()\n",
        "        total_loss += loss.item() * batch.num_graphs\n",
        "    total_loss /= len(train_dataloader.dataset)\n",
        "    #print(\"Loss:{}\".format(total_loss))\n",
        "    losses.append(total_loss)\n",
        "\n",
        "    # if epoch % 10 == 0:\n",
        "    #   test_acc = test(train_dataloader, model)\n",
        "    #   #print(\"Test acc:{}\".format(test_acc))\n",
        "    #   test_accs.append(test_acc)\n",
        "    # else:\n",
        "    #   test_accs.append(test_accs[-1])"
      ]
    },
    {
      "cell_type": "code",
      "execution_count": null,
      "metadata": {
        "id": "EqcextqOL2FX"
      },
      "outputs": [],
      "source": [
        "best_result = test(best_model, data, split_idx, evaluator)\n",
        "train_acc, valid_acc, test_acc = best_result\n",
        "print(f'Best model: '\n",
        "      f'Train: {100 * train_acc:.2f}%, '\n",
        "      f'Valid: {100 * valid_acc:.2f}% '\n",
        "      f'Test: {100 * test_acc:.2f}%')"
      ]
    },
    {
      "attachments": {},
      "cell_type": "markdown",
      "metadata": {
        "id": "vRg5VOEdQTa4"
      },
      "source": [
        "## Load and preprocess the dataset"
      ]
    },
    {
      "cell_type": "code",
      "execution_count": null,
      "metadata": {
        "id": "LXb-O5QUIgTH"
      },
      "outputs": [],
      "source": [
        "from ogb.graphproppred import PygGraphPropPredDataset, Evaluator\n",
        "from torch_geometric.data import DataLoader\n",
        "from tqdm.notebook import tqdm\n",
        "\n",
        "# Load the dataset \n",
        "dataset = PygGraphPropPredDataset(name='ogbg-molhiv')\n",
        "\n",
        "device = 'cuda' if torch.cuda.is_available() else 'cpu'\n",
        "print('Device: {}'.format(device))\n",
        "\n",
        "split_idx = dataset.get_idx_split()\n",
        "\n",
        "# Check task type\n",
        "print('Task type: {}'.format(dataset.task_type))"
      ]
    },
    {
      "cell_type": "code",
      "execution_count": null,
      "metadata": {
        "id": "7cHHbgW1c5hi"
      },
      "outputs": [],
      "source": [
        "# Load the data sets into dataloader\n",
        "# 每個Batch 32張Graph，training需打亂順序\n",
        "# We will train the graph classification task on a batch of 32 graphs\n",
        "# Shuffle the order of graphs for training set\n",
        "train_loader = DataLoader(dataset[split_idx[\"train\"]], batch_size=32, shuffle=True, num_workers=0)\n",
        "valid_loader = DataLoader(dataset[split_idx[\"valid\"]], batch_size=32, shuffle=False, num_workers=0)\n",
        "test_loader = DataLoader(dataset[split_idx[\"test\"]], batch_size=32, shuffle=False, num_workers=0)"
      ]
    },
    {
      "cell_type": "code",
      "execution_count": null,
      "metadata": {
        "id": "AYrSnOj0Y4DK"
      },
      "outputs": [],
      "source": [
        "# 注意，請勿改變此處參數！\n",
        "# Don't change!\n",
        "args = {\n",
        "    'device': device,\n",
        "    'num_layers': 5,\n",
        "    'hidden_dim': 256,\n",
        "    'dropout': 0.5,\n",
        "    'lr': 0.001,\n",
        "    'epochs': 30,\n",
        "}\n",
        "args"
      ]
    },
    {
      "cell_type": "code",
      "execution_count": null,
      "metadata": {},
      "outputs": [],
      "source": [
        "x_train, x_test, y_train, y_test = train_test_split(x, y, test_size=0.2, random_state=42)\n",
        "x_train = torch.tensor(x_train.values, dtype=torch.float32)\n",
        "edge_index = torch.tensor(edge_index.values.T, dtype=torch.long)\n",
        "y_train = torch.tensor(y_train.values, dtype=torch.float32)\n",
        "train_data = Data(x=x_train, edge_index=edge_index, y=y_train)"
      ]
    },
    {
      "cell_type": "code",
      "execution_count": null,
      "metadata": {},
      "outputs": [],
      "source": [
        "from torch.utils.data import Dataset\n",
        "class FraudDataset(Dataset):\n",
        "    def __init__(self, data):\n",
        "        super(FraudDataset, self).__init__()\n",
        "        self.data = data\n",
        "\n",
        "    def __len__(self):\n",
        "        return len(self.data.y)\n",
        "\n",
        "    def __getitem__(self, idx):\n",
        "        x = self.data.x[idx]\n",
        "        y = self.data.y[idx]\n",
        "        edge_index = self.data.edge_index\n",
        "        return {'x': x, 'y': y, 'edge_index': edge_index}\n",
        "dataset = FraudDataset(train_data)\n",
        "from torch.utils.data import DataLoader\n",
        "train_loader = DataLoader(dataset, batch_size=32, shuffle=True)"
      ]
    },
    {
      "cell_type": "code",
      "execution_count": null,
      "metadata": {},
      "outputs": [],
      "source": [
        "from torch_geometric.data import Data\n",
        "class FraudDetect(Data):\n",
        "    def __init__(self, x, edge_index, y):\n",
        "        super(FraudDetect, self).__init__()\n",
        "        # self.x = x  # Node feature matrix\n",
        "        # self.edge_index = edge_index  # Graph connectivity\n",
        "        # self.y = y # Target variable for fraud detection\n",
        "        self.length = len(y)\n",
        "        self.x = torch.tensor(x.values, dtype=torch.float32)\n",
        "        # print(self.x.shape)\n",
        "        self.edge_index = torch.tensor(edge_index.values.T, dtype=torch.long)\n",
        "        # print(self.edge_index.shape)\n",
        "        self.y = torch.tensor(y.values, dtype=torch.float32)\n",
        "        # print(self.y.shape)\n",
        "    def __getitem__(self, idx):\n",
        "        # data = super().__getitem__(idx)\n",
        "        # x = data.x\n",
        "        # edge_index = data.edge_index\n",
        "        # y = data.y\n",
        "        # data = super().__getitem__(idx)\n",
        "        # x = self.x.iloc[idx]\n",
        "        # edge_index = self.edge_index.iloc[idx]\n",
        "        # y = self.y.iloc[idx]\n",
        "        return {'x': self.x[idx], 'y': self.y[idx], 'edge_index': self.edge_index[idx]}\n",
        "    def __len__(self):\n",
        "        return (self.length)\n",
        "x_train = torch.tensor(x_train.values, dtype=torch.float32)\n",
        "edge_index = torch.tensor(edge_index.values.T, dtype=torch.long)\n",
        "y_train = torch.tensor(y_train.values, dtype=torch.float32)\n",
        "from torch_geometric.loader import DataLoader\n",
        "train_data = FraudDetect(x_train, edge_index, y_train)\n",
        "test_data = FraudDetect(x_test, edge_index, y_test)\n",
        "# train_data = [FraudDetect(x_train, edge_index, y_train)]\n",
        "# test_data = [FraudDetect(x_test, edge_index, y_test)]\n",
        "train_loader = DataLoader(train_data, batch_size=32, shuffle=True, collate_fn=lambda x: x)\n",
        "test_loader = DataLoader(test_data, batch_size=32, shuffle=False, collate_fn=lambda x: x)"
      ]
    },
    {
      "cell_type": "code",
      "execution_count": null,
      "metadata": {},
      "outputs": [],
      "source": [
        "import torch\n",
        "from torch_geometric.data import InMemoryDataset, download_url\n",
        "import os\n",
        "\n",
        "class FraudDataset(InMemoryDataset):\n",
        "    def __init__(self, root, transform=None, pre_transform=None, pre_filter=None):\n",
        "        super(FraudDataset, self).__init__(root, transform, pre_transform, pre_filter)\n",
        "        self.data, self.slices = torch.load(self.processed_paths[0])\n",
        "\n",
        "    @property\n",
        "    def raw_file_names(self):\n",
        "        return []\n",
        "\n",
        "    @property\n",
        "    def processed_file_names(self):\n",
        "        return ['FraudDataset.dataset']\n",
        "\n",
        "    def download(self):\n",
        "        pass\n",
        "\n",
        "    def process(self):\n",
        "        # Read data into huge `Data` list.\n",
        "        data_list = []\n",
        "        print(os.getcwd())\n",
        "        node_info = pd.read_csv('./node_info.csv')\n",
        "        y = node_info['fraud_risk']\n",
        "        x = node_info.drop(columns=['user_id', 'fraud_risk'])\n",
        "        edge_index = pd.read_csv('./edge_index.csv')\n",
        "        \n",
        "        x = torch.tensor(x.values, dtype=torch.float32)\n",
        "        edge_index = torch.tensor(edge_index.values.T, dtype=torch.long)\n",
        "        y = torch.tensor(y.values, dtype=torch.float32)\n",
        "        data = Data(x=x, edge_index=edge_index, y=y)\n",
        "        data_list.append(data)\n",
        "        data, slices = self.collate(data_list)\n",
        "        torch.save((data, slices), self.processed_paths[0])"
      ]
    },
    {
      "cell_type": "code",
      "execution_count": null,
      "metadata": {},
      "outputs": [],
      "source": [
        "dataset = FraudDataset(root='data/')\n",
        "from torch.utils.data import DataLoader\n",
        "data_loader = DataLoader(dataset, batch_size=32, shuffle=True)"
      ]
    }
  ],
  "metadata": {
    "accelerator": "GPU",
    "colab": {
      "machine_shape": "hm",
      "provenance": []
    },
    "kernelspec": {
      "display_name": "Python 3",
      "language": "python",
      "name": "python3"
    },
    "language_info": {
      "codemirror_mode": {
        "name": "ipython",
        "version": 3
      },
      "file_extension": ".py",
      "mimetype": "text/x-python",
      "name": "python",
      "nbconvert_exporter": "python",
      "pygments_lexer": "ipython3",
      "version": "3.7.15"
    }
  },
  "nbformat": 4,
  "nbformat_minor": 0
}
